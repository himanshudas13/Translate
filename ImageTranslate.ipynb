{
  "nbformat": 4,
  "nbformat_minor": 0,
  "metadata": {
    "colab": {
      "provenance": [],
      "authorship_tag": "ABX9TyMlzhdHYsFAojJeMzQYTRMQ",
      "include_colab_link": true
    },
    "kernelspec": {
      "name": "python3",
      "display_name": "Python 3"
    },
    "language_info": {
      "name": "python"
    }
  },
  "cells": [
    {
      "cell_type": "markdown",
      "metadata": {
        "id": "view-in-github",
        "colab_type": "text"
      },
      "source": [
        "<a href=\"https://colab.research.google.com/github/himanshudas13/Translate/blob/main/ImageTranslate.ipynb\" target=\"_parent\"><img src=\"https://colab.research.google.com/assets/colab-badge.svg\" alt=\"Open In Colab\"/></a>"
      ]
    },
    {
      "cell_type": "code",
      "execution_count": null,
      "metadata": {
        "id": "oEFi5I95ygQh"
      },
      "outputs": [],
      "source": [
        "from transformers import TrOCRProcessor, VisionEncoderDecoderModel\n",
        "\n",
        "# Load pre-trained TrOCR model and processor\n",
        "processor = TrOCRProcessor.from_pretrained(\"microsoft/trocr-base-printed\")\n",
        "model = VisionEncoderDecoderModel.from_pretrained(\"microsoft/trocr-base-printed\")\n",
        "\n",
        "# Preprocess image and perform OCR\n",
        "from PIL import Image\n",
        "img = Image.open(\"path_to_your_image.png\")\n",
        "\n",
        "# Process the image and extract the text\n",
        "pixel_values = processor(images=img, return_tensors=\"pt\").pixel_values\n",
        "generated_ids = model.generate(pixel_values)\n",
        "\n",
        "# Decode the output text (assumes output is in English)\n",
        "extracted_text = processor.decode(generated_ids[0], skip_special_tokens=True)\n",
        "print(\"Extracted Text:\", extracted_text)\n"
      ]
    },
    {
      "cell_type": "code",
      "source": [
        "import easyocr\n",
        "\n",
        "# Initialize the OCR reader for Odia and other languages\n",
        "reader = easyocr.Reader(['en', 'or'])  # 'or' is the code for Odia\n",
        "\n",
        "# Read text from an image\n",
        "result = reader.readtext('path_to_image.jpg')\n",
        "print(result)\n"
      ],
      "metadata": {
        "id": "Ro5LOV3iypwy"
      },
      "execution_count": null,
      "outputs": []
    },
    {
      "cell_type": "code",
      "source": [
        "from transformers import MBartForConditionalGeneration, MBartTokenizer\n",
        "\n",
        "# Load the pre-trained MBart model and tokenizer\n",
        "model = MBartForConditionalGeneration.from_pretrained(\"facebook/mbart-large-50-many-to-many-mmt\")\n",
        "tokenizer = MBartTokenizer.from_pretrained(\"facebook/mbart-large-50-many-to-many-mmt\")\n",
        "\n",
        "# Set the source and target languages (Odia to English)\n",
        "model.eval()\n",
        "\n",
        "# Odia text extracted from the image\n",
        "input_text = \"ତୁମ ଅବସ୍ଥା ଭଲ ଅଛି କି?\"\n",
        "\n",
        "# Tokenize the input text\n",
        "inputs = tokenizer(input_text, return_tensors=\"pt\", src_lang=\"or_Oria\")\n",
        "generated_tokens = model.generate(**inputs)\n",
        "\n",
        "# Decode the translation output\n",
        "translated_text = tokenizer.decode(generated_tokens[0], skip_special_tokens=True)\n",
        "print(\"Translated Text:\", translated_text)\n"
      ],
      "metadata": {
        "id": "TypMGbXXy2pK"
      },
      "execution_count": null,
      "outputs": []
    },
    {
      "cell_type": "code",
      "source": [
        "from transformers import VisionEncoderDecoderModel, TrOCRProcessor, MBartForConditionalGeneration, MBartTokenizer\n",
        "import easyocr\n",
        "from PIL import Image\n",
        "\n",
        "# Initialize OCR model\n",
        "ocr_reader = easyocr.Reader(['en', 'or'])  # Odia and English\n",
        "\n",
        "# Initialize Translation model (MBart)\n",
        "model = MBartForConditionalGeneration.from_pretrained(\"facebook/mbart-large-50-many-to-many-mmt\")\n",
        "tokenizer = MBartTokenizer.from_pretrained(\"facebook/mbart-large-50-many-to-many-mmt\")\n",
        "\n",
        "# Define the pipeline\n",
        "def ocr_translate(image_path):\n",
        "    # Extract text using OCR\n",
        "    result = ocr_reader.readtext(image_path)\n",
        "\n",
        "    # Get the Odia text from the OCR output (assuming it's the first detected text)\n",
        "    odia_text = \" \".join([r[1] for r in result])\n",
        "\n",
        "    # Translate Odia text to English using MBart\n",
        "    inputs = tokenizer(odia_text, return_tensors=\"pt\", src_lang=\"or_Oria\")\n",
        "    translated_tokens = model.generate(**inputs)\n",
        "    translated_text = tokenizer.decode(translated_tokens[0], skip_special_tokens=True)\n",
        "\n",
        "    return translated_text\n",
        "\n",
        "# Test the pipeline\n",
        "image_path = 'path_to_odia_text_image.jpg'\n",
        "translated_output = ocr_translate(image_path)\n",
        "print(\"Translated Text:\", translated_output)\n"
      ],
      "metadata": {
        "id": "oNGgeqd8y3zS"
      },
      "execution_count": null,
      "outputs": []
    }
  ]
}